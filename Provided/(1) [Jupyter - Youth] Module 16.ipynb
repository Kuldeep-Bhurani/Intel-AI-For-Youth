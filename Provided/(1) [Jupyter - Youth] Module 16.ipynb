{
 "cells": [
  {
   "cell_type": "markdown",
   "metadata": {
    "colab_type": "text",
    "id": "-YdfrGhXaSww"
   },
   "source": [
    "# Data Import and Processing"
   ]
  },
  {
   "cell_type": "markdown",
   "metadata": {
    "colab_type": "text",
    "id": "THfcvkzNaSwy"
   },
   "source": [
    "Datasets are essential to any data science project! The more data you have, the easier it will be to identify relationships between features. However, it is also essential for the datasets to be understood by the computer before you can conduct any data analysis. Thus, the main objective of this exercise is to equip you with the required skills to import and process your dataset before any data analysis or machine learning is conducted."
   ]
  },
  {
   "cell_type": "markdown",
   "metadata": {
    "colab_type": "text",
    "id": "Msb1KXoIaSw0"
   },
   "source": [
    "## 1. Data Import"
   ]
  },
  {
   "cell_type": "markdown",
   "metadata": {
    "colab_type": "text",
    "id": "Tr-GKbJkaSw2"
   },
   "source": [
    "There are many websites which you can obtain data for free. Some examples of these include Kaggle (https://www.kaggle.com/) and University of California, Irvine (UCI) (https://archive.ics.uci.edu/ml/datasets.html). We can manually download the datasets and place them in new folders on our computers. However, it may be time consuming to do so. Thus, here is a neat little trick to automate this process! The script is labelled as magic.py. Try it out!\n",
    "\n",
    "For the script to work, make sure you have the os, wget, pandas and matplotlib library installed in your python virtual environment.\n",
    "\n",
    "If you encounter an error while running the cell below, please comment out the first line: #%matplotlib qt"
   ]
  },
  {
   "cell_type": "code",
   "execution_count": 4,
   "metadata": {
    "colab": {},
    "colab_type": "code",
    "id": "g2YHGbLwaSw4",
    "outputId": "8ad0ff6c-6479-45af-9d04-c4894f7ddd63"
   },
   "outputs": [],
   "source": [
    "# %matplotlib qt\n",
    "# %run \"magic.py\""
   ]
  },
  {
   "cell_type": "markdown",
   "metadata": {
    "colab_type": "text",
    "id": "bYcAogTVaSxC"
   },
   "source": [
    "Hooray! You have successfully downloaded the data and plotted a graph without any manual intervention. Without opening the magic.py file, are you able to deduce where the data was downloaded to? The printed statements above will provide some hint!"
   ]
  },
  {
   "cell_type": "markdown",
   "metadata": {
    "colab": {},
    "colab_type": "code",
    "id": "toe2Wgb6aSxD"
   },
   "source": [
    "#your answer here"
   ]
  },
  {
   "cell_type": "markdown",
   "metadata": {
    "colab_type": "text",
    "id": "R0hU1t33aSxG"
   },
   "source": [
    "<font color=blue>Bonus: Does the figure look correct? Are you able to explain the negative values and the black lines on the x-axis?</font>"
   ]
  },
  {
   "cell_type": "markdown",
   "metadata": {},
   "source": [
    "#your answer here"
   ]
  },
  {
   "cell_type": "markdown",
   "metadata": {
    "colab_type": "text",
    "id": "v1CqAIo8aSxL"
   },
   "source": [
    "## 1.1 Downloading the iris dataset"
   ]
  },
  {
   "cell_type": "markdown",
   "metadata": {
    "colab_type": "text",
    "id": "IEcfNX70aSxM"
   },
   "source": [
    "Now it is time to import a dataset on your own. The dataset to be used will be the famous Iris Flower dataset. The dataset can be downloaded from http://archive.ics.uci.edu/ml/machine-learning-databases/iris/. The file to download is iris.data. More information on the dataset can be obtained from https://en.wikipedia.org/wiki/Iris_flower_data_set. Please spend some time going through the dataset description before attempting the next set of instructions."
   ]
  },
  {
   "cell_type": "markdown",
   "metadata": {
    "colab_type": "text",
    "id": "myyrcY8EaSxN"
   },
   "source": [
    "Create a new folder to store the dataset. Write a code below to download the dataset automatically using the urllib.request.urlretrieve function to help you. You can use the code within magic.py as reference.\n",
    "\n",
    "To access the contents within magic.py, find the magic.py file in the folder. Right-click on it and open it with wordpad.\n",
    "\n",
    "<font color=blue>Bonus: Download the data using only 2 lines of code!</font>"
   ]
  },
  {
   "cell_type": "code",
   "execution_count": 5,
   "metadata": {
    "colab": {},
    "colab_type": "code",
    "id": "RMnYNX7YaSxO"
   },
   "outputs": [
    {
     "data": {
      "text/plain": [
       "('iris.data', <http.client.HTTPMessage at 0x28d6290a0e0>)"
      ]
     },
     "execution_count": 5,
     "metadata": {},
     "output_type": "execute_result"
    }
   ],
   "source": [
    "import urllib.request\n",
    "\n",
    "urllib.request.urlretrieve(\"http://archive.ics.uci.edu/ml/machine-learning-databases/iris/iris.data\", \"iris.data\")"
   ]
  },
  {
   "cell_type": "markdown",
   "metadata": {
    "colab_type": "text",
    "id": "lIWPesDCaSxR"
   },
   "source": [
    "Well done! We now have our data downloaded! We will now access our data and learn some of its features. To do this, let’s explore a Python library called ‘pandas’!"
   ]
  },
  {
   "cell_type": "markdown",
   "metadata": {
    "colab_type": "text",
    "id": "uKRJq_OWaSxT"
   },
   "source": [
    "## 1.2 Introduction to Pandas"
   ]
  },
  {
   "cell_type": "markdown",
   "metadata": {
    "colab_type": "text",
    "id": "xk5z-Lo1aSxU"
   },
   "source": [
    "Pandas is a powerful tool to import datasets. It organises data into an easily processed [dataframe](https://www.datacamp.com/community/tutorials/pandas-tutorial-dataframe-python) which allows for easy statistical analysis. \n",
    "\n",
    "Read this [article](https://towardsdatascience.com/a-quick-introduction-to-the-pandas-python-library-f1b678f34673) and watch this [video](https://www.youtube.com/watch?v=dcqPhpY7tWk) for a quick introduction to pandas: What they are, what are some applications of pandas, and how you can use it.\n",
    "\n",
    "Pay careful attention to the part about importing data and viewing data, as we will use some of the functions in our exercises later!\n",
    "\n",
    "Summarise what you learnt about Pandas in your worksheet.\n",
    "-  How do you install and use Pandas?\n",
    "-  What are the common type of files that Pandas is used for?\n",
    "-  What is a dataframe?\n",
    "-  How do you access the rows and columns in the dataframe?\n",
    "-  Name and describe some commonly used Pandas functions."
   ]
  },
  {
   "cell_type": "markdown",
   "metadata": {
    "colab": {},
    "colab_type": "code",
    "id": "AyT4tG_daSxV"
   },
   "source": [
    "#your answer here"
   ]
  },
  {
   "cell_type": "markdown",
   "metadata": {
    "colab_type": "text",
    "id": "N-QF8J_6aSxZ"
   },
   "source": [
    "Now, let us use some functions within Pandas to help us access data. The first step is to import Pandas. Try importing pandas as pd."
   ]
  },
  {
   "cell_type": "code",
   "execution_count": 1,
   "metadata": {
    "colab": {},
    "colab_type": "code",
    "id": "dhvBRe9maSxa"
   },
   "outputs": [],
   "source": [
    "import pandas as pd"
   ]
  },
  {
   "cell_type": "markdown",
   "metadata": {
    "colab_type": "text",
    "id": "d9fK1C6PaSxd"
   },
   "source": [
    "After importing Pandas, we will now try to read in the Iris Flower dataset. It is currently saved as a Comma Separated Values file (CSV). We will need to understand more about CSV files before we can access the data in them."
   ]
  },
  {
   "cell_type": "markdown",
   "metadata": {
    "colab_type": "text",
    "id": "E19thKqyaSxe"
   },
   "source": [
    "## 1.2.1 Comma Separated Values (CSV) files"
   ]
  },
  {
   "cell_type": "markdown",
   "metadata": {
    "colab_type": "text",
    "id": "M62n4NVZaSxf"
   },
   "source": [
    "Datasets are mainly stored in CSV files. CSV files contain data that are separated by comma characters or other characters. For example, a CSV file containing names of people may be stored as John,Mary,Harry,Luke. The comma between the names will tell the computer where to separate one name from the other.\n",
    "\n",
    "The files usually have a .csv extension but there are files which do not follow this extension. One example will be that of the iris data. \n",
    "\n",
    "See this [article](https://www.howtogeek.com/348960/what-is-a-csv-file-and-how-do-i-open-it/) to find out more about csv files: What are they? How to access them?"
   ]
  },
  {
   "cell_type": "markdown",
   "metadata": {
    "colab": {},
    "colab_type": "code",
    "id": "cDsFZlfoaSxg"
   },
   "source": [
    "#your answer here"
   ]
  },
  {
   "cell_type": "markdown",
   "metadata": {
    "colab_type": "text",
    "id": "EJ-nEupOaSxj"
   },
   "source": [
    "<font color=blue>Bonus: After understanding the nature of CSV files, how would one check whether the data file is a CSV file? Which python function can be used to do this?</font>"
   ]
  },
  {
   "cell_type": "markdown",
   "metadata": {
    "colab": {},
    "colab_type": "code",
    "id": "4sQKqSkpaSxk"
   },
   "source": [
    "#your answer here"
   ]
  },
  {
   "cell_type": "markdown",
   "metadata": {
    "colab_type": "text",
    "id": "ff_cSddFaSxm"
   },
   "source": [
    "## 1.2.2 Iris Flower dataset"
   ]
  },
  {
   "cell_type": "markdown",
   "metadata": {
    "colab_type": "text",
    "id": "luYPiLxZaSxn"
   },
   "source": [
    "The Iris Flower dataset is a csv file, even though it has the extension .data. Now, open the dataset using the pd.read_csv() function and assign it into a variable df. Then, print out the first 5 rows of the dataframe to see the data attribute. What do you notice?"
   ]
  },
  {
   "cell_type": "code",
   "execution_count": 5,
   "metadata": {
    "colab": {},
    "colab_type": "code",
    "id": "sEVfohq4aSxo"
   },
   "outputs": [
    {
     "name": "stdout",
     "output_type": "stream",
     "text": [
      "   5.1  3.5  1.4  0.2  Iris-setosa\n",
      "0  4.9  3.0  1.4  0.2  Iris-setosa\n",
      "1  4.7  3.2  1.3  0.2  Iris-setosa\n",
      "2  4.6  3.1  1.5  0.2  Iris-setosa\n",
      "3  5.0  3.6  1.4  0.2  Iris-setosa\n",
      "4  5.4  3.9  1.7  0.4  Iris-setosa\n"
     ]
    }
   ],
   "source": [
    "df = pd.read_csv(\"iris.data\")\n",
    "print(df.head(5))"
   ]
  },
  {
   "cell_type": "markdown",
   "metadata": {
    "colab_type": "text",
    "id": "svZ8sbZqaSxs"
   },
   "source": [
    "Did you realise the dataframe was missing headers/column names? This happens as the original file does not have header/column names. As such, it is always important to find out more details about the data file before using it. \n",
    "\n",
    "We can find out more information in the iris.names file from the previous download [link](http://archive.ics.uci.edu/ml/machine-learning-databases/iris/iris.names). The iris.names file listed the column names under point 7 (Attribute iInformation). What are the required names?"
   ]
  },
  {
   "cell_type": "markdown",
   "metadata": {
    "colab": {},
    "colab_type": "code",
    "id": "WqIxmdCgaSxt"
   },
   "source": [
    "#your answer here"
   ]
  },
  {
   "cell_type": "markdown",
   "metadata": {
    "colab_type": "text",
    "id": "FuMlox-xaSxw"
   },
   "source": [
    "You can refer to the picture (source: https://www.researchgate.net/figure/Trollius-ranunculoide-flower-with-measured-traits_fig6_272514310) below to understand the variables \"sepal_length\", \"sepal_width\", \"petal_length\" and \"petal_width\"."
   ]
  },
  {
   "cell_type": "markdown",
   "metadata": {
    "colab_type": "text",
    "id": "6hGSifnXaSxx"
   },
   "source": [
    "<img src = \"./resources/PetalSepal1.png\">"
   ]
  },
  {
   "cell_type": "markdown",
   "metadata": {
    "colab_type": "text",
    "id": "98Mj-zMHaSxz"
   },
   "source": [
    "Now, let us try to include the names into the dataframe. It is necessary to read the data into the dataframe again to specify that the data has missing headers. This will allow us to add the names into the dataframe later. The code to add the first 2 names is shown below. Modify the code to include the other names before printing the top 5 rows again."
   ]
  },
  {
   "cell_type": "code",
   "execution_count": 9,
   "metadata": {
    "colab": {},
    "colab_type": "code",
    "id": "xIFzntYlaSx0"
   },
   "outputs": [
    {
     "name": "stdout",
     "output_type": "stream",
     "text": [
      "     0    1    2    3            4\n",
      "0  5.1  3.5  1.4  0.2  Iris-setosa\n",
      "1  4.9  3.0  1.4  0.2  Iris-setosa\n",
      "2  4.7  3.2  1.3  0.2  Iris-setosa\n",
      "3  4.6  3.1  1.5  0.2  Iris-setosa\n",
      "4  5.0  3.6  1.4  0.2  Iris-setosa\n"
     ]
    }
   ],
   "source": [
    "df = pd.read_csv(\"iris.data\",header=None)\n",
    "print(df.head())\n",
    "names = [\"SL\",\"SW\",\"PL\",\"PW\",\"Class\"]\n",
    "df.columns = names"
   ]
  },
  {
   "cell_type": "markdown",
   "metadata": {
    "colab_type": "text",
    "id": "3Oygv8doaSx5"
   },
   "source": [
    "With the proper labels, you can now use pandas to obtain basic information (Number of rows and columns, type of data, number of missing values and basic statistics) about the dataset. Use .info() and .describe() to obtain basic information about the dataset!"
   ]
  },
  {
   "cell_type": "code",
   "execution_count": 11,
   "metadata": {
    "colab": {},
    "colab_type": "code",
    "id": "UF6PjBl_aSx8"
   },
   "outputs": [
    {
     "name": "stdout",
     "output_type": "stream",
     "text": [
      "    SL   SW   PL   PW        Class\n",
      "0  5.1  3.5  1.4  0.2  Iris-setosa\n",
      "1  4.9  3.0  1.4  0.2  Iris-setosa\n",
      "2  4.7  3.2  1.3  0.2  Iris-setosa\n",
      "3  4.6  3.1  1.5  0.2  Iris-setosa\n",
      "4  5.0  3.6  1.4  0.2  Iris-setosa\n",
      "<class 'pandas.core.frame.DataFrame'>\n",
      "RangeIndex: 150 entries, 0 to 149\n",
      "Data columns (total 5 columns):\n",
      " #   Column  Non-Null Count  Dtype  \n",
      "---  ------  --------------  -----  \n",
      " 0   SL      150 non-null    float64\n",
      " 1   SW      150 non-null    float64\n",
      " 2   PL      150 non-null    float64\n",
      " 3   PW      150 non-null    float64\n",
      " 4   Class   150 non-null    object \n",
      "dtypes: float64(4), object(1)\n",
      "memory usage: 6.0+ KB\n",
      "None\n",
      "               SL          SW          PL          PW\n",
      "count  150.000000  150.000000  150.000000  150.000000\n",
      "mean     5.843333    3.054000    3.758667    1.198667\n",
      "std      0.828066    0.433594    1.764420    0.763161\n",
      "min      4.300000    2.000000    1.000000    0.100000\n",
      "25%      5.100000    2.800000    1.600000    0.300000\n",
      "50%      5.800000    3.000000    4.350000    1.300000\n",
      "75%      6.400000    3.300000    5.100000    1.800000\n",
      "max      7.900000    4.400000    6.900000    2.500000\n"
     ]
    }
   ],
   "source": [
    "print(df.head())\n",
    "\n",
    "# other important functions\n",
    "print(df.info())\n",
    "print(df.describe())"
   ]
  },
  {
   "cell_type": "markdown",
   "metadata": {
    "colab_type": "text",
    "id": "6lo55BdBaSx-"
   },
   "source": [
    "Based on the information obtained, you should note that there are 150 different flowers in the dataset and that there are no missing values in the dataset."
   ]
  },
  {
   "cell_type": "markdown",
   "metadata": {
    "colab_type": "text",
    "id": "od_yIKS1aSx_"
   },
   "source": [
    "## You have now mastered the ability to download datasets automatically and import them using Pandas. Additionally, you have also learnt how to use the Pandas functions to obtain basic information about the dataset. Now we will proceed to a class activity where you will have to put all these skills to good use!"
   ]
  }
 ],
 "metadata": {
  "colab": {
   "name": "(1) Obtaining_data_Student.ipynb",
   "provenance": [],
   "version": "0.3.2"
  },
  "kernelspec": {
   "display_name": "Python 3.10.4 ('.venv': venv)",
   "language": "python",
   "name": "python3"
  },
  "language_info": {
   "codemirror_mode": {
    "name": "ipython",
    "version": 3
   },
   "file_extension": ".py",
   "mimetype": "text/x-python",
   "name": "python",
   "nbconvert_exporter": "python",
   "pygments_lexer": "ipython3",
   "version": "3.10.4"
  },
  "vscode": {
   "interpreter": {
    "hash": "f0612d6cce651d937e7a716190cb9f95d42eb2a94ed8a92ca3bd5d633658b33e"
   }
  }
 },
 "nbformat": 4,
 "nbformat_minor": 1
}
