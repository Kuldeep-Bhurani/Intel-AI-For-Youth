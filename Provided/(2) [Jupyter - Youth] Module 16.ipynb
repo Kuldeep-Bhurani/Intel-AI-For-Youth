{
 "cells": [
  {
   "cell_type": "markdown",
   "metadata": {},
   "source": [
    "# Basic data processing and visualisation"
   ]
  },
  {
   "cell_type": "markdown",
   "metadata": {},
   "source": [
    "After importing the datset, we must be able to make sense of the data before any machine learning algorithms can be applied. In order to do so, we have to use basic statistics and simple plots. In this notebook, you will learn how to understand basic statstics and use the Matplotlib functions to plot simple plots. Thus, please ensure that you have the Matplotlib library installed before proceeding with the notebook. You can check by typing \"! pip freeze\"."
   ]
  },
  {
   "cell_type": "code",
   "execution_count": null,
   "metadata": {},
   "outputs": [],
   "source": [
    "#your code here"
   ]
  },
  {
   "cell_type": "markdown",
   "metadata": {},
   "source": [
    "# Basic statistics"
   ]
  },
  {
   "cell_type": "markdown",
   "metadata": {},
   "source": [
    "Import your required libraries below. Generally, we will import any required libraries at the start of the notebook so that we do not have to re-run the whole notebook if we want to include additional libraries. The 2 libraries needed in this notebook will help structure and visualise the data."
   ]
  },
  {
   "cell_type": "code",
   "execution_count": null,
   "metadata": {},
   "outputs": [],
   "source": [
    "#your code here"
   ]
  },
  {
   "cell_type": "markdown",
   "metadata": {},
   "source": [
    "# 1. Using the pandas .describe() function to obtain overall statistics"
   ]
  },
  {
   "cell_type": "markdown",
   "metadata": {},
   "source": [
    "Import the previously used Iris Flower dataset as a dataframe called df and print the .describe() output."
   ]
  },
  {
   "cell_type": "code",
   "execution_count": null,
   "metadata": {},
   "outputs": [],
   "source": [
    "#your code here"
   ]
  },
  {
   "cell_type": "markdown",
   "metadata": {},
   "source": [
    "We can see that the output will provide the values for mean, std, min, 25%, 50%, 75% and max. Do you know what these values refer to? Please briefly explain these values in your worksheet."
   ]
  },
  {
   "cell_type": "code",
   "execution_count": null,
   "metadata": {},
   "outputs": [],
   "source": [
    "#your answer here"
   ]
  },
  {
   "cell_type": "markdown",
   "metadata": {},
   "source": [
    "These basic statistics are important as they will tell us the distribution of the data. For example, if you have a very small difference between the 50 and the 25 percentile but a large difference between the 75 and 50 percentile, it will suggest that the distribution of the data is skewed to the larger values. However, numbers alone may be hard to understand. Thus, we will be looking at some plots and figures to help us visualise!"
   ]
  },
  {
   "cell_type": "markdown",
   "metadata": {},
   "source": [
    "# 2. Boxplots"
   ]
  },
  {
   "cell_type": "markdown",
   "metadata": {},
   "source": [
    "Boxplots or box and whisker plots, are useful tools to help visualise the distribution of the data. The plot will indicate the percentile values and also the interquartile range (IQR). Additionally, it will also be able to identify potential outliers. The potential outliers will be values larger than the 75th percentile + 1.5(IQR) or lower than the 25th percentile - 1.5(IQR). You can refer to the figure below to understand how to read the boxplot. Additionally, you can watch this video for more information on boxplots (https://www.youtube.com/watch?v=o7qWblT5NZI)."
   ]
  },
  {
   "cell_type": "markdown",
   "metadata": {},
   "source": [
    "<img src = \"./resources/Box_Plot.PNG\">"
   ]
  },
  {
   "cell_type": "markdown",
   "metadata": {},
   "source": [
    "Let us try to plot box plots for imported Iris Flower dataset. Try out the code below. It will plot the boxplot for the sepal length variable in the dataset. Setting showfliers=True will ensure that the outliers will be shown on the plot.\n",
    "\n",
    "<font color=blue> Hint: If you encounter an error while plotting the boxplot, think about the previous exercise dealing with headers.</font>"
   ]
  },
  {
   "cell_type": "code",
   "execution_count": null,
   "metadata": {},
   "outputs": [],
   "source": [
    "plt.boxplot(df['sepal_length'],showfliers=True,labels=['sepal length'])\n",
    "plt.show();"
   ]
  },
  {
   "cell_type": "markdown",
   "metadata": {},
   "source": [
    "From the boxplot above, can you explain if you should expect outliers within the sepal_length variable?"
   ]
  },
  {
   "cell_type": "code",
   "execution_count": null,
   "metadata": {},
   "outputs": [],
   "source": [
    "#your answer here"
   ]
  },
  {
   "cell_type": "markdown",
   "metadata": {},
   "source": [
    "It is now your turn to plot the box plots for \"sepal_width\",\"petal_length\", \"petal_width\" variables."
   ]
  },
  {
   "cell_type": "code",
   "execution_count": null,
   "metadata": {},
   "outputs": [],
   "source": [
    "#your code here"
   ]
  },
  {
   "cell_type": "markdown",
   "metadata": {},
   "source": [
    "Did you notice that there could potentially be outliers in the sepal width variable? Additionally, did you see that the distribution within petal length and petal width may be skewed? This is because the median in both cases are closer to the top of the box than the bottom of the box."
   ]
  },
  {
   "cell_type": "markdown",
   "metadata": {},
   "source": [
    "<font color=blue>Bonus: Are you able to plot all 4 boxplots using the same axis in 1 figure? You can search for the .subplots() method within matplotlib to help you do so.</font>"
   ]
  },
  {
   "cell_type": "code",
   "execution_count": null,
   "metadata": {},
   "outputs": [],
   "source": [
    "#your code here"
   ]
  },
  {
   "cell_type": "markdown",
   "metadata": {},
   "source": [
    "# 3. Histograms"
   ]
  },
  {
   "cell_type": "markdown",
   "metadata": {},
   "source": [
    "Like boxplots, histograms are also able to help you visualise the distribution of the data. It will also help to see if the data is skewed towards the high or low values. The bars within the histograms are representative of the number of datapoints that fall within certain value ranges. Try out the code below to see the histogram for the sepal length values. The value for bins indicate the number of bins for the data and the range indicates the minimum and maximum value for the x axis."
   ]
  },
  {
   "cell_type": "code",
   "execution_count": null,
   "metadata": {},
   "outputs": [],
   "source": [
    "#your code here"
   ]
  },
  {
   "cell_type": "markdown",
   "metadata": {},
   "source": [
    "From the histogram above, you can see that the distribution is relatively balanced with the majority of the data falling between 4.5 and 7.0. Now, try to plot the histograms for the remaining variables. Try different bin numbers and ranges to get bins with nice intervals. For example, bins that have intervals of 1, 0.5, 0,2, etc are easier to visualise. You can print out the minimum and maximum values to help you. You can use the code below to print out the minimum and maximum values for sepal length. You can see that the values will range between 4 to 8 and 8 bins will be suitable as the interval of 0.5 will be easy to visualise."
   ]
  },
  {
   "cell_type": "code",
   "execution_count": null,
   "metadata": {},
   "outputs": [],
   "source": [
    "#your code here"
   ]
  },
  {
   "cell_type": "markdown",
   "metadata": {},
   "source": [
    "You can plot the remaining histograms below! Record down the ranges and number of bins used in each histogram. How did you obtain the range values and number of bins? What information can you obtain from the histogram that was not visualised by the box plot?"
   ]
  },
  {
   "cell_type": "code",
   "execution_count": null,
   "metadata": {},
   "outputs": [],
   "source": [
    "#your code here"
   ]
  },
  {
   "cell_type": "markdown",
   "metadata": {},
   "source": [
    "From the histograms above, you should be able to observe that the distribution is skewed for both petal length and petal width. This is the same conclusion as that seen earlier from the boxplots."
   ]
  },
  {
   "cell_type": "markdown",
   "metadata": {},
   "source": [
    "# 4. Scatter Plots"
   ]
  },
  {
   "cell_type": "markdown",
   "metadata": {},
   "source": [
    "Both boxplots and histograms are able to identify if outliers exist wihin a single variable. What if you need to look for outliers in 2 variables instead of just 1 variable? You can use scatter plot to help you do so. Scatter plots will be able to identify if there are outliers by plotting the points against 2 variables. Try the code out below. The code will use the \"petal length\" and \"petal width\" as variables."
   ]
  },
  {
   "cell_type": "code",
   "execution_count": null,
   "metadata": {},
   "outputs": [],
   "source": [
    "#your code here"
   ]
  },
  {
   "cell_type": "markdown",
   "metadata": {},
   "source": [
    "Do you notice any outlier in the scatter plot? Where are they in the plot?"
   ]
  },
  {
   "cell_type": "code",
   "execution_count": null,
   "metadata": {},
   "outputs": [],
   "source": [
    "#your answer here"
   ]
  },
  {
   "cell_type": "markdown",
   "metadata": {},
   "source": [
    "From the figure above, it may seem that there are outliers at the left of the plot as these points are very far away from the marjority of the points. However, these are not outliers as outliers usually do not cluster together. Additionally, there are usually only a few outlier points. This grouping seems to be a cluster rather than outliers. We will see why this cluster exists later in the notebook. Additionally, if you observe carefully, you will also be able to see that there seems to be a direct relationship between petal width and petal length. This means that when petal width values are low, their petal length values will also be low and vice versa. Thus, scatter plots may sometimes be able to reveal relationships between variables as well."
   ]
  },
  {
   "cell_type": "markdown",
   "metadata": {},
   "source": [
    "Now it is your turn to try and plot a scatter plot. Use the remaining 2 variables, \"sepal length\" and \"sepal width\", to plot the scatter plot. Spend some time to study the plot. Do you see any interesting relationship between the two variables?"
   ]
  },
  {
   "cell_type": "code",
   "execution_count": null,
   "metadata": {},
   "outputs": [],
   "source": [
    "#your code here"
   ]
  },
  {
   "cell_type": "markdown",
   "metadata": {},
   "source": [
    "You can observe from the plot that it does not seem to have any obvious outliers when comparing sepal width and sepal length. Furthermore, it seems that there is no clear relationship between sepal width and sepal length."
   ]
  },
  {
   "cell_type": "markdown",
   "metadata": {},
   "source": [
    "<font color=blue>Bonus: We can also use scatter plots to understand the differences in the classes in the dataset. To recall, we did not use the classes of the flowers. The classes are the labels for each flower. This means that we may be able to use the variables \"sepal length\", \"sepal width\", \"petal length\" and \"petal width\" values to try and predict the flower class. We can use scatter plots to see which may be the most useful variable to predict the class. Try the code below!</font>"
   ]
  },
  {
   "cell_type": "code",
   "execution_count": null,
   "metadata": {},
   "outputs": [],
   "source": [
    "#Split the datframe into the 3 classes\n",
    "df_Setosa = df[df['class'] == 'Iris-setosa']\n",
    "#your code here\n",
    "\n",
    "#Plot the different class with different colours. The c= controls the colours and the label= controls the name shown in the legend\n",
    "plt.scatter(df_Setosa['petal_length'],df_Setosa['petal_width'],c='r',label='Setosa')\n",
    "#your code here\n",
    "\n",
    "#Add in the axis and legend\n",
    "plt.legend()\n",
    "plt.xlabel('Petal Length')\n",
    "plt.ylabel('Petal Width')\n",
    "\n",
    "plt.show()"
   ]
  },
  {
   "cell_type": "markdown",
   "metadata": {},
   "source": [
    "This shows that petal width and petal length may be important variables if we want to predict the classes of the flowers. This also explains why the values at the left corner are not outliers. Do the same plot for the other variables. Is it easy to separate the classes?"
   ]
  },
  {
   "cell_type": "code",
   "execution_count": null,
   "metadata": {},
   "outputs": [],
   "source": [
    "#your code here"
   ]
  },
  {
   "cell_type": "markdown",
   "metadata": {},
   "source": [
    "We can see from both plots that it may be easier to predict the Setosa class as the data points are easily separatable from the other two classes."
   ]
  }
 ],
 "metadata": {
  "kernelspec": {
   "display_name": "Python 3.10.4 64-bit",
   "language": "python",
   "name": "python3"
  },
  "language_info": {
   "codemirror_mode": {
    "name": "ipython",
    "version": 3
   },
   "file_extension": ".py",
   "mimetype": "text/x-python",
   "name": "python",
   "nbconvert_exporter": "python",
   "pygments_lexer": "ipython3",
   "version": "3.10.4"
  },
  "vscode": {
   "interpreter": {
    "hash": "369f2c481f4da34e4445cda3fffd2e751bd1c4d706f27375911949ba6bb62e1c"
   }
  }
 },
 "nbformat": 4,
 "nbformat_minor": 2
}
