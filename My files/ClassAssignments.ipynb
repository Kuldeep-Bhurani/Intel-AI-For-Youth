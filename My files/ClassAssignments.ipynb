{
 "cells": [
  {
   "cell_type": "markdown",
   "metadata": {},
   "source": [
    "# Class Assignments"
   ]
  },
  {
   "cell_type": "markdown",
   "metadata": {},
   "source": [
    "## 1. Prime Detector\n",
    "Detects if the input is a prime"
   ]
  },
  {
   "cell_type": "code",
   "execution_count": 15,
   "metadata": {},
   "outputs": [
    {
     "name": "stdout",
     "output_type": "stream",
     "text": [
      "1 is a prime number\n",
      "2 is a prime number\n",
      "54 is not a prime number\n",
      "That was not a valid number. Try again...\n"
     ]
    }
   ],
   "source": [
    "while True:\n",
    "    boolval = False\n",
    "    try:\n",
    "        num = int(input(\"Enter a number: \"))\n",
    "    except ValueError:\n",
    "        print(\"That was not a valid number. Try again...\")\n",
    "        break\n",
    "    if num > 1:\n",
    "        for i in range(2, num):\n",
    "            if (num % i) == 0:\n",
    "                boolval = True\n",
    "                break\n",
    "    if boolval:\n",
    "        print(f\"{num} is not a prime number\")\n",
    "    else:\n",
    "        print(f\"{num} is a prime number\")\n",
    "    condition = input(\"type c to continue and anything else to exit: \")\n",
    "    if condition == \"c\":\n",
    "        continue\n",
    "    else:\n",
    "        break"
   ]
  },
  {
   "cell_type": "markdown",
   "metadata": {},
   "source": [
    "## 2. Tuple Size - ODD or EVEN\n",
    "Determines the tuple size using negative and posative indexing and then parses if it is odd or even"
   ]
  },
  {
   "cell_type": "code",
   "execution_count": 5,
   "metadata": {},
   "outputs": [
    {
     "name": "stdout",
     "output_type": "stream",
     "text": [
      "The tuple has odd number of elements specifically 3\n"
     ]
    }
   ],
   "source": [
    "count = 1\n",
    "lst = []\n",
    "def check(count):\n",
    "    if count%2 == 0:\n",
    "        print(f\"The tuple has even number of elements specifically {count}\")\n",
    "    else:\n",
    "        print(f\"The tuple has odd number of elements specifically {count}\")\n",
    "    return\n",
    "while True:\n",
    "    list_input = input(\"Enter a value to add to your tuple: \")\n",
    "    lst.append(list_input)\n",
    "    condition = input(\"type c to continue and anything else to exit: \")\n",
    "    if condition == \"c\":\n",
    "        continue\n",
    "    else:\n",
    "        break\n",
    "tpl = tuple(lst)\n",
    "for n in tpl[0:-1]:\n",
    "    count += 1\n",
    "check(count)"
   ]
  }
 ],
 "metadata": {
  "interpreter": {
   "hash": "f0612d6cce651d937e7a716190cb9f95d42eb2a94ed8a92ca3bd5d633658b33e"
  },
  "kernelspec": {
   "display_name": "Python 3.10.4 ('.venv': venv)",
   "language": "python",
   "name": "python3"
  },
  "language_info": {
   "codemirror_mode": {
    "name": "ipython",
    "version": 3
   },
   "file_extension": ".py",
   "mimetype": "text/x-python",
   "name": "python",
   "nbconvert_exporter": "python",
   "pygments_lexer": "ipython3",
   "version": "3.10.4"
  },
  "orig_nbformat": 4
 },
 "nbformat": 4,
 "nbformat_minor": 2
}
